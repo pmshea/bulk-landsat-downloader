{
 "cells": [
  {
   "cell_type": "code",
   "execution_count": 1,
   "metadata": {},
   "outputs": [],
   "source": [
    "import numpy as np\n",
    "import pandas as pd\n",
    "\n",
    "import plotly.graph_objects as go\n",
    "import plotly.express as px"
   ]
  },
  {
   "cell_type": "code",
   "execution_count": 17,
   "metadata": {},
   "outputs": [
    {
     "name": "stdout",
     "output_type": "stream",
     "text": [
      "836\n"
     ]
    }
   ],
   "source": [
    "# selects only Landsat 8 imagery from mixed request list and exports selection as new .csv \n",
    "\n",
    "dirty_data = pd.read_csv(\n",
    "    r'C:\\Users\\parke\\python_projects\\learnByDoing--Statistics\\SurfaceTemperatures\\landsat_pics\\data.csv', \n",
    "    encoding='cp1252'\n",
    ")\n",
    "\n",
    "only_lc08 = dirty_data[dirty_data['Tile Identifier'].str.contains(\"LC08\")]\n",
    "\n",
    "print(len(only_lc08.index))\n",
    "\n",
    "request_list = only_lc08.to_csv(\n",
    "    r'C:\\Users\\parke\\python_projects\\learnByDoing--Statistics\\SurfaceTemperatures\\landsat_pics\\requests_list.csv'\n",
    ")"
   ]
  },
  {
   "cell_type": "code",
   "execution_count": null,
   "metadata": {},
   "outputs": [],
   "source": []
  }
 ],
 "metadata": {
  "kernelspec": {
   "display_name": "Python 3",
   "language": "python",
   "name": "python3"
  },
  "language_info": {
   "codemirror_mode": {
    "name": "ipython",
    "version": 3
   },
   "file_extension": ".py",
   "mimetype": "text/x-python",
   "name": "python",
   "nbconvert_exporter": "python",
   "pygments_lexer": "ipython3",
   "version": "3.8.3"
  }
 },
 "nbformat": 4,
 "nbformat_minor": 4
}
